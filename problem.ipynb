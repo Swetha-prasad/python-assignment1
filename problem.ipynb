{
 "cells": [
  {
   "cell_type": "markdown",
   "metadata": {},
   "source": [
    "# Problem:1\n",
    "## Write a python program to print the following string in a specific format"
   ]
  },
  {
   "cell_type": "code",
   "execution_count": 1,
   "metadata": {},
   "outputs": [
    {
     "name": "stdout",
     "output_type": "stream",
     "text": [
      "Twinkle, twinkle, little star, \n",
      "\tHow I wonder what you are! \n",
      "\t\tUp above the world so high, \n",
      "\t\tLike a diamond in the sky. \n",
      "Twinkle, twinkle, little star, \n",
      "\tHow I wonder What you are!\n"
     ]
    }
   ],
   "source": [
    "print(\"Twinkle, twinkle, little star, \\n\\tHow I wonder what you are! \\n\\t\\tUp above the world so high, \\n\\t\\tLike a diamond in the sky. \\nTwinkle, twinkle, little star, \\n\\tHow I wonder What you are!\")"
   ]
  },
  {
   "cell_type": "markdown",
   "metadata": {},
   "source": [
    "# Problem:2\n",
    "## Write a python program which accepts the radius of a circle from the user and compute the area."
   ]
  },
  {
   "cell_type": "code",
   "execution_count": 1,
   "metadata": {},
   "outputs": [
    {
     "name": "stdout",
     "output_type": "stream",
     "text": [
      "50.24\n"
     ]
    }
   ],
   "source": [
    "r=float(input(\"Enter radius\"))\n",
    "ar=(3.14*r*r)\n",
    "print(ar)"
   ]
  },
  {
   "cell_type": "markdown",
   "metadata": {},
   "source": [
    "# Problem:3\n"
   ]
  },
  {
   "cell_type": "markdown",
   "metadata": {},
   "source": [
    "## one extra large 18 degree pizza costs as much as two medium 12 degree pizzas. if i wanted to get the most pizza possible should i buy one 18 degree pizza of the two 12 degree pizzas"
   ]
  },
  {
   "cell_type": "markdown",
   "metadata": {},
   "source": [
    "# 1.calculate the area of extra large pizza, and the area of the medium pizza"
   ]
  },
  {
   "cell_type": "markdown",
   "metadata": {},
   "source": [
    "# 2.for twice the price of extra there will be two medium pizza so two times"
   ]
  },
  {
   "cell_type": "markdown",
   "metadata": {},
   "source": [
    "# 3. The area of the both pizzas can be compared and the greatest area can be bought"
   ]
  },
  {
   "cell_type": "markdown",
   "metadata": {},
   "source": [
    "# 4.Considering there will two medium sized pizza"
   ]
  },
  {
   "cell_type": "code",
   "execution_count": 2,
   "metadata": {},
   "outputs": [
    {
     "name": "stdout",
     "output_type": "stream",
     "text": [
      "1017.36\n",
      "452.16\n",
      "Large pizza is will be profitable.\n"
     ]
    }
   ],
   "source": [
    "large_pizza = 3.14 * (18 * 18)\n",
    "medium_pizza = 3.14 * (12 * 12)\n",
    "#two medium_pizza for the same price\n",
    "print(large_pizza)\n",
    "print(medium_pizza)\n",
    "two_medium_pizza = medium_pizza * 2\n",
    "\n",
    "if(large_pizza > two_medium_pizza):\n",
    "    print(\"Large pizza is will be profitable.\")\n",
    "\n",
    "else: print(\"Medium pizza is profitable\")"
   ]
  },
  {
   "cell_type": "markdown",
   "metadata": {},
   "source": []
  }
 ],
 "metadata": {
  "kernelspec": {
   "display_name": "Python 3.10.7 64-bit",
   "language": "python",
   "name": "python3"
  },
  "language_info": {
   "codemirror_mode": {
    "name": "ipython",
    "version": 3
   },
   "file_extension": ".py",
   "mimetype": "text/x-python",
   "name": "python",
   "nbconvert_exporter": "python",
   "pygments_lexer": "ipython3",
   "version": "3.10.7"
  },
  "orig_nbformat": 4,
  "vscode": {
   "interpreter": {
    "hash": "c3f3f33c3a7fd2cf5ec716589a85524249bf75eeaef8fd397b9ff8245565d1f3"
   }
  }
 },
 "nbformat": 4,
 "nbformat_minor": 2
}
